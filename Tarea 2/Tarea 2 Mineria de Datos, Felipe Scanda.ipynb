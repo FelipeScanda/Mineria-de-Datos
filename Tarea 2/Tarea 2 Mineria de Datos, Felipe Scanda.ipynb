{
 "cells": [
  {
   "cell_type": "markdown",
   "id": "43a7fe25",
   "metadata": {},
   "source": [
    "# Tarea 2   COM4001-1 Minería de Datos\n",
    "## Profesor: Luis Cossio.\n",
    "## Ayudante: Gabriel Díaz.\n",
    "--- \n",
    "\n",
    "- Nombre de los integrantes:\n",
    "- Fecha de Entrega:"
   ]
  },
  {
   "cell_type": "markdown",
   "id": "bbac44b8",
   "metadata": {},
   "source": [
    "## Objetivos:\n",
    "\n",
    "- Uso de notebooks de Python y entrega de informes basados en esta herramienta.\n",
    "- Introducción a modelos de aprendizaje supervisado.\n",
    "- Uso de estos modelos para hacer clasificación binaria (Entre dos posibles clases).\n",
    "- Comprender como dividir los datos para entrenamiento y prueba de los modelos.\n",
    "- Análisis de métricas de desempeño, comparación y selección del mejor modelo en base a los resultados.\n",
    "- Implementación de un Algortimo de Clasificación."
   ]
  },
  {
   "cell_type": "markdown",
   "id": "7ce27ed1",
   "metadata": {},
   "source": [
    "## Instrucciones\n",
    "* La tarea a realizar se debe presentar en grupos de **2 personas**, cualquier copia o plagio será sancionada con nota 1.0 a todos los involucrados y con posible sumario.\n",
    "* La tarea consiste en entrenar y probar diferentes modelos de clasificación, para luego probar sus desempeños con métricas especificas, para finalmente seleccionar el mejor modelo y configuración de este, aplicando los conceptos de minería de datos aprendidos en Catedras y Ayudantías. Las soluciones en código y las interpretaciones de resultados deben ir en el mismo notebook donde se va creando el informe y serán evaluadas.\n",
    "* La tarea debe contener una sección de discusión, conclusión y selección del mejor modelo, en base a los resultados obtenidos, sientase libre de explayarse profundamente en este punto.\n",
    "* Para la presentación final de la tarea se debe subir su notebook Python en formato .ipynb\n",
    "* Responder en el mismo Jupyter Notebook acá donde se presenta la tarea. No es necesario hacer un informe extra.\n",
    "* Se debe agregar una sección de referencias al final de la tarea, agregando la documentación con la que se trabajó. En caso de no agregar referencias lógicas (que sean reales) la nota máxima se reducirá a 4.0 se solicita un mínimo de 3 referencias utilizadas, contando cualquier link, libro o material adecuado para realizar la evaluación."
   ]
  },
  {
   "cell_type": "markdown",
   "id": "196b6761",
   "metadata": {},
   "source": [
    "# Parte 0: Estudio Previo\n",
    "Investigue y entregue una definición para los siguientes conceptos, no es necesario una descripción extensa (pero si que sea con sus propias palabras): \n",
    "\n",
    "- Aprendizaje Supervisado\n",
    "- Problema de clasificación \n",
    "- Entrenamiento  de  un  clasificador  (describa  los  principales  pasos y requisitos).\n",
    "\n",
    "Explique como funcionan los siguientes clasificadores:\n",
    "  - Naive Bayes\n",
    "  - KNN (K-Nearest Neighbors)\n",
    "  - Árboles de decisión\n",
    "  - Regresión Logística"
   ]
  },
  {
   "cell_type": "markdown",
   "id": "88373e87",
   "metadata": {},
   "source": [
    "### Respuesta:"
   ]
  },
  {
   "cell_type": "markdown",
   "id": "c6d3f234",
   "metadata": {},
   "source": []
  },
  {
   "cell_type": "markdown",
   "id": "9dcbc544",
   "metadata": {},
   "source": [
    "# Parte 1: Cargar y jugar con el Dataset\n",
    "Luego de descargar el dataset de Ucampus, se dará cuenta que son 2 bases:\n",
    "\n",
    "- Calidad de Vinos Rojos.\n",
    "- Calidad de Vinos Blancos.\n",
    "\n",
    "Las variables del dataset (Columnas) representan:\n",
    "\n",
    "- Acidez fija\n",
    "- Acidez volátil\n",
    "- Ácido cítrico\n",
    "- Azúcar residual\n",
    "- Cloruros\n",
    "- Anhídrido sulfuroso libre\n",
    "- Anhídrido sulfuroso total\n",
    "- Densidad\n",
    "- PH\n",
    "- Sulfatos\n",
    "- Alcohol\n",
    "- Calidad\n",
    "\n",
    "\n",
    "### Pasos por hacer:\n",
    "\n",
    "1. Consiga información de ambos dataset por separado, con esto vea el número de columnas y filas y entregelo en una respuesta breve.\n",
    "2. Seleccione 2 gráficos, a su gusto, para representar información del dataset con una breve explicación (tiene libertad de elección), la finalidad de esta pregunta es ver como maneja los gráficos y la información que entrega a usted.\n"
   ]
  },
  {
   "cell_type": "markdown",
   "id": "e5e966e1",
   "metadata": {},
   "source": [
    "### Respuesta:"
   ]
  },
  {
   "cell_type": "markdown",
   "id": "e5a93512",
   "metadata": {},
   "source": []
  },
  {
   "cell_type": "code",
   "execution_count": null,
   "id": "489dd627",
   "metadata": {},
   "outputs": [],
   "source": []
  },
  {
   "cell_type": "markdown",
   "id": "5d49ea30",
   "metadata": {},
   "source": [
    "## Parte 2: Transformación de la variable `quality`\n",
    "\n",
    "El objetivo es transformar la variable `quality`, que originalmente es numérica y ordinal (de 3 a 9), en una **variable de clasificación**. Puede ser para las bases de datos por separado o si usted prefiere unir las bases también puede hacerlo.\n",
    "\n",
    "Agruparemos las calidades de la siguiente manera:\n",
    "\n",
    "- Si `quality >= 7` → vino **bueno**\n",
    "- Si `quality < 7` → vino **malo**\n",
    "\n",
    "Esta transformación nos permitirá aplicar clasificadores binarios como:\n",
    "- Regresión Logística\n",
    "- KNN\n",
    "- Naive Bayes\n",
    "- Árboles de Decisión\n",
    "\n",
    "Cosas por hacer: \n",
    "\n",
    "1. Cambiar la variable **quelity**.\n",
    "\n",
    "2. Tu objetivo es crear una nueva columna llamada `label` que contenga:\n",
    "\n",
    "- `1` si el vino es bueno  \n",
    "- `0` si el vino es malo\n",
    "\n",
    "### **Luego trabajarás con esa nueva columna como la variable objetivo de los clasificadores.**\n"
   ]
  },
  {
   "cell_type": "markdown",
   "id": "ea21ac30",
   "metadata": {},
   "source": [
    "### Respuesta:"
   ]
  },
  {
   "cell_type": "markdown",
   "id": "64e6ff50",
   "metadata": {},
   "source": []
  },
  {
   "cell_type": "code",
   "execution_count": null,
   "id": "7be875ba",
   "metadata": {},
   "outputs": [],
   "source": []
  },
  {
   "cell_type": "markdown",
   "id": "9797ad50",
   "metadata": {},
   "source": [
    "# Parte 3: Separación de datos en entrenamiento y validación\n",
    "\n",
    "Una vez que hemos creado la variable `label`, el siguiente paso es **separar los datos aleatoriamente** en dos conjuntos:\n",
    "\n",
    "- **Conjunto de entrenamiento** (`train`): será usado para entrenar los modelos.\n",
    "- **Conjunto de validación** (`val`): se usará para evaluar el rendimiento de los modelos entrenados.\n",
    "\n",
    "### Cosas por hacer:\n",
    "\n",
    "1. Usa la función `train_test_split()` de `sklearn.model_selection` para dividir los datos.\n",
    "2. Asigna el 70% para entrenamiento y el 30% para validación.\n",
    "3. Asegúrate de que la variable objetivo sea la nueva columna `label`.\n",
    "4. Utiliza `random_state=42` para que la división sea reproducible.\n",
    "\n",
    "Al final, tendrás:\n",
    "- `X_train`, `y_train` para entrenar los modelos\n",
    "- `X_val`, `y_val` para validarlos\n"
   ]
  },
  {
   "cell_type": "markdown",
   "id": "a80f67ec",
   "metadata": {},
   "source": [
    "### Respuesta:"
   ]
  },
  {
   "cell_type": "markdown",
   "id": "08ddc4dd",
   "metadata": {},
   "source": []
  },
  {
   "cell_type": "code",
   "execution_count": null,
   "id": "5b252307",
   "metadata": {},
   "outputs": [],
   "source": []
  },
  {
   "cell_type": "markdown",
   "id": "b1b021d7",
   "metadata": {},
   "source": [
    "# Parte 4: Clasificador K-Nearest Neighbors (KNN)\n",
    "\n",
    "Ahora implementaremos el algoritmo de **K vecinos más cercanos (KNN)**.\n",
    "\n",
    "### ¿Qué hace KNN?\n",
    "\n",
    "KNN clasifica un dato nuevo buscando los **K ejemplos más cercanos** en el conjunto de entrenamiento, y luego asigna la clase más frecuente entre ellos.\n",
    "\n",
    "### Cosas por hacer: \n",
    "\n",
    "1. Escala los datos con `StandardScaler` (KNN es sensible a la magnitud de los atributos).\n",
    "2. Usa `KNeighborsClassifier` de `sklearn.neighbors`.\n",
    "3. Entrena el modelo con el conjunto `X_train`, `y_train`.\n",
    "4. Evalúa con el conjunto `X_val`, obteniendo:\n",
    "   - Matriz de confusión\n",
    "   - Accuracy\n",
    "   - Precision, Recall, F1-score\n",
    "5. Elige un valor de `k` (por ejemplo, `k=5`) y justifica por qué lo usaste.\n",
    "\n",
    "**Bonus:** Puedes probar con otros valores de `k` y comparar resultados. Siempre es recompensado el trabajo extra, esto es opcional, pero siempre es recompensado...\n"
   ]
  },
  {
   "cell_type": "markdown",
   "id": "489bab05",
   "metadata": {},
   "source": [
    "### Respuesta:"
   ]
  },
  {
   "cell_type": "markdown",
   "id": "e2acbe21",
   "metadata": {},
   "source": []
  },
  {
   "cell_type": "code",
   "execution_count": null,
   "id": "508ec251",
   "metadata": {},
   "outputs": [],
   "source": []
  },
  {
   "cell_type": "markdown",
   "id": "37f05fe9",
   "metadata": {},
   "source": [
    "# Parte 5: Clasificador de Regresión Logística\n",
    "\n",
    "Vamos a entrenar un modelo de **Regresión Logística**, uno de los clasificadores más utilizados en la práctica para problemas binarios.\n",
    "\n",
    "### ¿Qué hace?\n",
    "\n",
    "La regresión logística calcula la **probabilidad de pertenencia a una clase**, aplicando una transformación sigmoide sobre una combinación lineal de los atributos.  \n",
    "Clasifica el dato como \"positivo\" (1) si esa probabilidad es mayor a cierto umbral (por defecto, 0.5).\n",
    "\n",
    "### Cosas por hacer:\n",
    "\n",
    "1. Escala los datos usando `StandardScaler`. (En este caso reutiliza los datos de KNN)\n",
    "2. Entrena un modelo de `LogisticRegression` con los datos de entrenamiento.\n",
    "3. Evalúa su rendimiento con los datos de validación, mostrando:\n",
    "   - Matriz de confusión\n",
    "   - Accuracy\n",
    "   - Precision, Recall, F1-score\n",
    "4. Compara los resultados con el modelo anterior (KNN) y comenta cuál funcionó mejor y según usted el motivo de porque un modelo fue mejor que otro. Haga un comentario breve.\n"
   ]
  },
  {
   "cell_type": "markdown",
   "id": "fc0bfac5",
   "metadata": {},
   "source": [
    "### Respuesta:"
   ]
  },
  {
   "cell_type": "markdown",
   "id": "a42adde5",
   "metadata": {},
   "source": []
  },
  {
   "cell_type": "code",
   "execution_count": null,
   "id": "f8a26b1d",
   "metadata": {},
   "outputs": [],
   "source": []
  },
  {
   "cell_type": "markdown",
   "id": "3761e814",
   "metadata": {},
   "source": [
    "# Parte 6: Clasificador Naive Bayes\n",
    "\n",
    "Vamos a entrenar un modelo de **Naive Bayes Gaussiano** para clasificar vinos buenos y malos.\n",
    "\n",
    "### ¿Qué hace Naive Bayes?\n",
    "\n",
    "Este modelo calcula la **probabilidad de que una observación pertenezca a una clase**, usando el Teorema de Bayes y asumiendo que las variables son **independientes entre sí**.\n",
    "\n",
    "### Cosas por hacer:\n",
    "\n",
    "1. Escala los datos si lo consideras necesario.\n",
    "2. Entrena un modelo `GaussianNB` de `sklearn.naive_bayes`.\n",
    "3. Evalúa su rendimiento en el conjunto de validación con:\n",
    "   - Matriz de confusión\n",
    "   - Accuracy\n",
    "   - Precision, Recall, F1-score\n",
    "4. Comenta brevemente cómo se compara con KNN y Regresión Logística.\n",
    "\n",
    "**Nota:** Aunque Naive Bayes no requiere normalización, es buena idea mantener consistencia para comparar resultados.\n"
   ]
  },
  {
   "cell_type": "markdown",
   "id": "308bb3fa",
   "metadata": {},
   "source": [
    "### Respuesta:"
   ]
  },
  {
   "cell_type": "markdown",
   "id": "3aacfb48",
   "metadata": {},
   "source": []
  },
  {
   "cell_type": "code",
   "execution_count": null,
   "id": "726c6b23",
   "metadata": {},
   "outputs": [],
   "source": []
  },
  {
   "cell_type": "markdown",
   "id": "bdbb10af",
   "metadata": {},
   "source": [
    "# Parte 7: Clasificador Árbol de Decisión\n",
    "\n",
    "Ahora implementaremos un **Árbol de Decisión**, un modelo basado en reglas de \"si esto, entonces lo otro\", que divide el espacio de atributos en regiones rectangulares para clasificar.\n",
    "\n",
    "### ¿Qué hace?\n",
    "\n",
    "El modelo construye un árbol binario a partir de los datos, donde en cada nodo se toma una **decisión basada en una variable**, dividiendo el dataset según el valor que mejor separa las clases.\n",
    "\n",
    "### Cosas por hacer:\n",
    "\n",
    "1. Entrena un modelo de `DecisionTreeClassifier` con los datos de entrenamiento.\n",
    "2. No es necesario escalar los datos, pero puedes usar los mismos escalados para comparación uniforme.\n",
    "3. Evalúa su rendimiento en el conjunto de validación con:\n",
    "   - Matriz de confusión\n",
    "   - Accuracy\n",
    "   - Precision, Recall, F1-score\n",
    "4. Compara los resultados con los otros clasificadores. Descripción Breve."
   ]
  },
  {
   "cell_type": "markdown",
   "id": "5262baf8",
   "metadata": {},
   "source": [
    "### Respuesta:"
   ]
  },
  {
   "cell_type": "markdown",
   "id": "2d2e64f3",
   "metadata": {},
   "source": []
  },
  {
   "cell_type": "code",
   "execution_count": null,
   "id": "f182150c",
   "metadata": {},
   "outputs": [],
   "source": []
  },
  {
   "cell_type": "markdown",
   "id": "20c0c849",
   "metadata": {},
   "source": [
    "# Parte 8: Comparación de Clasificadores\n",
    "\n",
    "En esta etapa vas a **comparar el rendimiento de los 4 modelos entrenados**:\n",
    "\n",
    "- K-Nearest Neighbors (KNN)\n",
    "- Regresión Logística\n",
    "- Naive Bayes\n",
    "- Árbol de Decisión\n",
    "\n",
    "### Cosas por hacer:\n",
    "\n",
    "1. Crear una tabla comparativa que contenga las siguientes métricas para cada modelo:\n",
    "   - Accuracy\n",
    "   - F1-score (macro)\n",
    "   - Precision (macro)\n",
    "   - Recall (macro)\n",
    "\n",
    "2. Visualizar esa comparación en un gráfico de barras.\n",
    "\n",
    "3. Responder las siguientes preguntas:\n",
    "   - ¿Qué modelo tuvo mejor rendimiento global? ¿Y en qué métrica?\n",
    "   - ¿Qué modelo crees que sería más útil si el dataset estuviera desbalanceado?\n",
    "   - ¿Cuál de los 4 modelos te pareció más fácil de interpretar?\n",
    "\n",
    "Este análisis debe ir acompañado de tus observaciones personales y justificaciones.\n"
   ]
  },
  {
   "cell_type": "markdown",
   "id": "1f3cc865",
   "metadata": {},
   "source": [
    "### Respuesta:"
   ]
  },
  {
   "cell_type": "markdown",
   "id": "844f9755",
   "metadata": {},
   "source": []
  },
  {
   "cell_type": "code",
   "execution_count": null,
   "id": "6d4c45ad",
   "metadata": {},
   "outputs": [],
   "source": []
  },
  {
   "cell_type": "markdown",
   "id": "b09e680a",
   "metadata": {},
   "source": [
    "# Parte Final (9): Implementación Propia del Algoritmo\n",
    "\n",
    "Esta parte está diseñada para reforzar la comprensión del funcionamiento interno de los modelos de clasificación.\n",
    "\n",
    "### Cosas por hacer:\n",
    "\n",
    "1. Elijan uno de los cuatro modelos vistos en la tarea (**KNN, Regresión Logística, Naive Bayes o Árbol de Decisión**).\n",
    "2. Implementen ese modelo desde cero como una **clase en Python**.\n",
    "3. Entrenen y evalúen su modelo utilizando los datos previamente procesados (`X_train`, `X_val`, etc.).\n",
    "4. Comparen el rendimiento de su implementación con la versión correspondiente de **`sklearn`** utilizando:\n",
    "   - Accuracy\n",
    "   - F1-score\n",
    "   - Matriz de Confusión\n",
    "\n",
    "### Instrucciones:\n",
    "\n",
    "- La clase debe incluir métodos como `.fit()` y `.predict()`, al igual que en `sklearn`.\n",
    "- Pueden usar funciones de Numpy, pero no usar librerías de ML externas como `sklearn` en esa implementación.\n",
    "- Justifiquen si hay diferencias de rendimiento y mencionen posibles razones.\n",
    "\n",
    "**Recomendación**: Se sugiere implementar **KNN**, ya que es directo y se relaciona con los cálculos de distancia vistos en clase.\n"
   ]
  },
  {
   "cell_type": "markdown",
   "id": "4743cb9a",
   "metadata": {},
   "source": []
  },
  {
   "cell_type": "code",
   "execution_count": null,
   "id": "75db14af",
   "metadata": {},
   "outputs": [],
   "source": []
  },
  {
   "cell_type": "markdown",
   "id": "da72d6b7",
   "metadata": {},
   "source": [
    "# Referencias:"
   ]
  },
  {
   "cell_type": "markdown",
   "id": "b90b261b",
   "metadata": {},
   "source": []
  }
 ],
 "metadata": {
  "kernelspec": {
   "display_name": "Python 3",
   "language": "python",
   "name": "python3"
  },
  "language_info": {
   "codemirror_mode": {
    "name": "ipython",
    "version": 3
   },
   "file_extension": ".py",
   "mimetype": "text/x-python",
   "name": "python",
   "nbconvert_exporter": "python",
   "pygments_lexer": "ipython3",
   "version": "3.10.10"
  }
 },
 "nbformat": 4,
 "nbformat_minor": 5
}
